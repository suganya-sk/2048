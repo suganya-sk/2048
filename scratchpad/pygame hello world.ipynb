{
 "cells": [
  {
   "cell_type": "code",
   "execution_count": 1,
   "metadata": {},
   "outputs": [
    {
     "name": "stdout",
     "output_type": "stream",
     "text": [
      "pygame 1.9.6\n",
      "Hello from the pygame community. https://www.pygame.org/contribute.html\n"
     ]
    }
   ],
   "source": [
    "import pygame\n",
    "\n",
    "\n",
    "from pygame.locals import *"
   ]
  },
  {
   "cell_type": "code",
   "execution_count": 2,
   "metadata": {},
   "outputs": [
    {
     "data": {
      "text/plain": [
       "(6, 0)"
      ]
     },
     "execution_count": 2,
     "metadata": {},
     "output_type": "execute_result"
    }
   ],
   "source": [
    "pygame.init()"
   ]
  },
  {
   "cell_type": "code",
   "execution_count": 3,
   "metadata": {},
   "outputs": [],
   "source": [
    "def handle_event(event):\n",
    "    if event.type == KEYDOWN:\n",
    "        if event.key == K_UP:\n",
    "            print(\"You pressed up arrow\")\n",
    "        elif event.key == K_DOWN:\n",
    "             print(\"You pressed down arrow\")\n",
    "        elif event.key == K_LEFT:\n",
    "            print(\"You pressed left arrow\")\n",
    "        elif event.key == K_RIGHT:\n",
    "            print(\"You pressed right arrow\")\n",
    "        else:\n",
    "            print(\"Press one of the arrow keys!\")\n",
    "    "
   ]
  },
  {
   "cell_type": "code",
   "execution_count": 4,
   "metadata": {},
   "outputs": [],
   "source": [
    "display_surf = pygame.display.set_mode((300, 300))\n",
    "\n",
    "WHITE = (255, 255, 255)\n",
    "BLACK = (0, 0, 0)\n",
    "GREEN        = (  0, 155,   0)\n",
    "BLUE         = (  0,   0, 155)\n",
    "\n",
    "BASICFONT = pygame.font.Font('freesansbold.ttf', 16)\n",
    "\n",
    "def makeTile(text, top, left, color=WHITE, bkg_color=BLACK):\n",
    "    text_surf = BASICFONT.render(str(text), True, color, bkg_color)\n",
    "    text_rect = text_surf.get_rect()\n",
    "    text_rect.topleft = (top, left)\n",
    "    display_surf.blit(text_surf, text_rect)\n",
    "#     return (text_surf, text_rect)\n",
    "\n",
    "pygame.display.set_caption('Hello world')\n",
    "textSurf = BASICFONT.render('Welcome', True, WHITE, BLACK)\n",
    "textRec = textSurf.get_rect()\n",
    "# textRec.topleft = (10, 10)\n",
    "display_surf.blit(textSurf, (10, 10))\n",
    "\n",
    "\n",
    "rect_0 = makeTile(0, 75, 75)\n",
    "\n",
    "rect_1 = makeTile(0, 125, 75)\n",
    "rect_2 = makeTile(0, 175, 75)\n",
    "rect_3 = makeTile(0, 75, 125)\n",
    "rect_4 = makeTile(0, 125, 125)\n",
    "# rect_5 = pygame.Rect(175, 125, 50, 50)\n",
    "rect_5 = makeTile(0, 175, 25)\n",
    "# rect_6 = pygame.Rect(75, 175, 50, 50)\n",
    "rect_6 = makeTile(0, 75, 175)\n",
    "# rect_7 = pygame.Rect(125, 175, 50, 50)\n",
    "rect_7 = makeTile(0, 125, 175)\n",
    "# rect_8 = pygame.Rect(175, 175, 50, 50)\n",
    "rect_8 = makeTile(0, 175, 175)\n",
    "\n",
    "\n",
    "# pygame.draw.rect(display_surf, GREEN, rect_0)\n",
    "# pygame.draw.rect(display_surf, BLUE, rect_1)\n",
    "# pygame.draw.rect(display_surf, GREEN, rect_2)\n",
    "# pygame.draw.rect(display_surf, BLUE, rect_3)\n",
    "# pygame.draw.rect(display_surf, GREEN, rect_4)\n",
    "# pygame.draw.rect(display_surf, BLUE, rect_5)\n",
    "# pygame.draw.rect(display_surf, GREEN, rect_6)\n",
    "# pygame.draw.rect(display_surf, BLUE, rect_7)\n",
    "# r8 = pygame.draw.rect(display_surf, GREEN, rect_8)\n",
    "\n",
    "\n",
    "running = True\n",
    "while running:\n",
    "    for event in pygame.event.get():\n",
    "        handle_event(event)\n",
    "        if event.type == QUIT:\n",
    "            running = False\n",
    "    pygame.display.update()\n",
    "            \n",
    "if not running:\n",
    "    pygame.quit()    "
   ]
  },
  {
   "cell_type": "code",
   "execution_count": 6,
   "metadata": {},
   "outputs": [
    {
     "data": {
      "text/plain": [
       "['cambria',\n",
       " 'inkfree',\n",
       " 'nirmalauisemilight',\n",
       " 'verdana',\n",
       " 'tahoma',\n",
       " 'myanmartext',\n",
       " 'leelawadeeuisemilight',\n",
       " 'gadugi',\n",
       " 'impact',\n",
       " 'calibri',\n",
       " 'arial',\n",
       " 'mvboli',\n",
       " 'ebrima',\n",
       " 'trebuchetms',\n",
       " 'segoeui',\n",
       " 'microsoftsansserif',\n",
       " 'microsoftyibaiti',\n",
       " 'hpsimplified',\n",
       " 'comicsansms',\n",
       " 'microsofttaile',\n",
       " 'simsunnsimsun',\n",
       " 'consolas',\n",
       " 'robotoregular',\n",
       " 'webdings',\n",
       " 'msgothicmsuigothicmspgothic',\n",
       " 'microsoftjhengheimicrosoftjhengheiuibold',\n",
       " 'sylfaen',\n",
       " 'couriernew',\n",
       " 'yugothicyugothicuilight',\n",
       " 'georgia',\n",
       " 'yugothicyugothicuisemiboldyugothicuibold',\n",
       " 'candara',\n",
       " 'microsoftyaheimicrosoftyaheiui',\n",
       " 'microsoftjhengheimicrosoftjhengheiui',\n",
       " 'sitkasmallsitkatextsitkasubheadingsitkaheadingsitkadisplaysitkabanner',\n",
       " 'cambriacambriamath',\n",
       " 'segoeuihistoric',\n",
       " 'segoeuiblack',\n",
       " 'palatinolinotype',\n",
       " 'gabriola',\n",
       " 'lucidaconsole',\n",
       " 'segoemdl2assets',\n",
       " 'malgungothicsemilight',\n",
       " 'bahnschrift',\n",
       " 'simsunextb',\n",
       " 'mongolianbaiti',\n",
       " 'microsoftphagspa',\n",
       " 'microsoftyaheimicrosoftyaheiuibold',\n",
       " 'microsoftnewtailue',\n",
       " 'microsoftyaheimicrosoftyaheiuilight',\n",
       " 'franklingothicmedium',\n",
       " 'microsofthimalaya',\n",
       " 'wingdings',\n",
       " 'yugothicregularyugothicuisemilight',\n",
       " 'lucidasans',\n",
       " 'corbel',\n",
       " 'segoeuisymbol',\n",
       " 'symbol',\n",
       " 'constantia',\n",
       " 'segoeprint',\n",
       " 'sitkasmallsitkatextbolditalicsitkasubheadingbolditalicsitkaheadingbolditalicsitkadisplaybolditalicsitkabannerbolditalic',\n",
       " 'timesnewroman',\n",
       " 'arialblack',\n",
       " 'sitkasmallsitkatextboldsitkasubheadingboldsitkaheadingboldsitkadisplayboldsitkabannerbold',\n",
       " 'nirmalaui',\n",
       " 'yugothicmediumyugothicuiregular',\n",
       " 'segoeuisemibold',\n",
       " 'segoeuisemilight',\n",
       " 'leelawadeeui',\n",
       " 'microsoftjhengheimicrosoftjhengheiuilight',\n",
       " 'malgungothic',\n",
       " 'mingliuextbpmingliuextbmingliuhkscsextb',\n",
       " 'holomdl2assets',\n",
       " 'segoescript',\n",
       " 'segoeuiemoji',\n",
       " 'javanesetext',\n",
       " 'sitkasmallsitkatextitalicsitkasubheadingitalicsitkaheadingitalicsitkadisplayitalicsitkabanneritalic']"
      ]
     },
     "execution_count": 6,
     "metadata": {},
     "output_type": "execute_result"
    }
   ],
   "source": [
    "pygame.font.get_fonts()"
   ]
  },
  {
   "cell_type": "code",
   "execution_count": 8,
   "metadata": {},
   "outputs": [
    {
     "data": {
      "text/plain": [
       "'C:\\\\WINDOWS\\\\Fonts\\\\calibril.ttf'"
      ]
     },
     "execution_count": 8,
     "metadata": {},
     "output_type": "execute_result"
    }
   ],
   "source": [
    "pygame.font.match_font('calibri')"
   ]
  },
  {
   "cell_type": "code",
   "execution_count": null,
   "metadata": {},
   "outputs": [],
   "source": []
  }
 ],
 "metadata": {
  "kernelspec": {
   "display_name": "Python 2",
   "language": "python",
   "name": "python2"
  },
  "language_info": {
   "codemirror_mode": {
    "name": "ipython",
    "version": 2
   },
   "file_extension": ".py",
   "mimetype": "text/x-python",
   "name": "python",
   "nbconvert_exporter": "python",
   "pygments_lexer": "ipython2",
   "version": "2.7.15"
  }
 },
 "nbformat": 4,
 "nbformat_minor": 2
}
